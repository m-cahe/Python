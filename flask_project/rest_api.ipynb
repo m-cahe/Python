{
 "cells": [
  {
   "cell_type": "code",
   "execution_count": 2,
   "id": "815f2aa8",
   "metadata": {},
   "outputs": [],
   "source": [
    "from flask import Flask"
   ]
  },
  {
   "cell_type": "markdown",
   "id": "dc92bcbe",
   "metadata": {},
   "source": [
    "### 1. routing"
   ]
  },
  {
   "cell_type": "code",
   "execution_count": 3,
   "id": "a5587736",
   "metadata": {},
   "outputs": [
    {
     "name": "stdout",
     "output_type": "stream",
     "text": [
      " * Serving Flask app \"__main__\" (lazy loading)\n",
      " * Environment: production\n",
      "\u001b[31m   WARNING: This is a development server. Do not use it in a production deployment.\u001b[0m\n",
      "\u001b[2m   Use a production WSGI server instead.\u001b[0m\n",
      " * Debug mode: off\n"
     ]
    },
    {
     "name": "stderr",
     "output_type": "stream",
     "text": [
      " * Running on http://127.0.0.1:8080/ (Press CTRL+C to quit)\n"
     ]
    }
   ],
   "source": [
    "app = Flask(__name__)\n",
    "\n",
    "@app.route('/')\n",
    "def print_main():\n",
    "    return '<h1>MAIN PAGE</h1>'\n",
    "\n",
    "@app.route('/apple')\n",
    "def print_apple():\n",
    "    return '<h1 style=\"color:red\">apple</h1>'\n",
    "\n",
    "@app.route('/banana')\n",
    "def print_banana():\n",
    "    return '<h1 style=\"color:orange\">banana</h1>'\n",
    "\n",
    "#인자 넣어서 사용하기 : <nextRoute>\n",
    "@app.route('/banana/<nextRoute>')\n",
    "def print_nextRoute(nextRoute):\n",
    "    return '<h1 style=\"color:orange\">banana step1: ' + nextRoute + '</h1>'\n",
    "\n",
    "#인자 넣어서 활용하기 : <int:nextIntRoute>\n",
    "def add_print(data):\n",
    "    return data + 1\n",
    "\n",
    "@app.route('/apple/<int:nextIntRoute>')   # <int:nextIntRoute>: type을 int로만 가능 \n",
    "def print_IntRoute(nextIntRoute):\n",
    "    data = add_print(nextIntRoute)        # 상위 설정한 add_print() 호출하기\n",
    "    return '<h1>%d</h1>' % (data)         # %d:int , %f:float  %:format이랑 비슷\n",
    "    \n",
    "\n",
    "if __name__ == '__main__':\n",
    "    app.run('127.0.0.1','8080')  #run(host, port)   #port -> http:80, https:443"
   ]
  },
  {
   "cell_type": "markdown",
   "id": "0e724c35",
   "metadata": {},
   "source": [
    "### 2. Rest API(json형식으로 출력)"
   ]
  },
  {
   "cell_type": "code",
   "execution_count": 4,
   "id": "e4e18095",
   "metadata": {},
   "outputs": [],
   "source": [
    "from flask import Flask, jsonify"
   ]
  },
  {
   "cell_type": "code",
   "execution_count": 5,
   "id": "f5dfd2bd",
   "metadata": {},
   "outputs": [],
   "source": [
    "app = Flask(__name__)\n",
    "\n",
    "@app.route(\"/\")\n",
    "def basic_route():\n",
    "    return '<h1>Hi</h1>'\n",
    "\n",
    "@app.route(\"/print_json\")\n",
    "def json_route():\n",
    "    data = {\"title\":\"Rest API\", \"content\":\"crud/request/response\"}\n",
    "    return jsonify(data)    #jsonify(data): json형태로 출력해주는 함수"
   ]
  },
  {
   "cell_type": "code",
   "execution_count": null,
   "id": "5ba5ca04",
   "metadata": {},
   "outputs": [
    {
     "name": "stdout",
     "output_type": "stream",
     "text": [
      " * Serving Flask app \"__main__\" (lazy loading)\n",
      " * Environment: production\n",
      "\u001b[31m   WARNING: This is a development server. Do not use it in a production deployment.\u001b[0m\n",
      "\u001b[2m   Use a production WSGI server instead.\u001b[0m\n",
      " * Debug mode: off\n"
     ]
    },
    {
     "name": "stderr",
     "output_type": "stream",
     "text": [
      " * Running on http://127.0.0.1:8080/ (Press CTRL+C to quit)\n",
      "127.0.0.1 - - [07/Aug/2021 13:16:02] \"\u001b[37mGET /print_json HTTP/1.1\u001b[0m\" 200 -\n"
     ]
    }
   ],
   "source": [
    "if __name__ == '__main__':\n",
    "    app.run('127.0.0.1', '8080')"
   ]
  },
  {
   "cell_type": "markdown",
   "id": "010b4054",
   "metadata": {},
   "source": [
    "### 3. Rest API 테스트\n",
    "- 테스트 도구: httppie\n",
    "        예시) http GET http://localhost:8080/print_json\n",
    "             http -v GET http://localhost:8080/print_json   http프로토콜도 함께 출력"
   ]
  },
  {
   "cell_type": "code",
   "execution_count": null,
   "id": "eec1284f",
   "metadata": {},
   "outputs": [],
   "source": []
  },
  {
   "cell_type": "code",
   "execution_count": null,
   "id": "3fada38e",
   "metadata": {},
   "outputs": [],
   "source": []
  }
 ],
 "metadata": {
  "kernelspec": {
   "display_name": "Python 3",
   "language": "python",
   "name": "python3"
  },
  "language_info": {
   "codemirror_mode": {
    "name": "ipython",
    "version": 3
   },
   "file_extension": ".py",
   "mimetype": "text/x-python",
   "name": "python",
   "nbconvert_exporter": "python",
   "pygments_lexer": "ipython3",
   "version": "3.8.8"
  }
 },
 "nbformat": 4,
 "nbformat_minor": 5
}
