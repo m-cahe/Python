{
 "cells": [
  {
   "cell_type": "markdown",
   "id": "c9f26044",
   "metadata": {},
   "source": [
    "### 1. 라우팅 경로 설정 (url: Uniform Resource Locator)\n",
    "- URI vs URL\n",
    "    - uri:IP주소+라우팅+파라메터\n",
    "    - url:IP주소+라우팅\n",
    "\n",
    "\n",
    "- @으로 시작하는 코드 : 데코레이터\n",
    "- flask 웹 서버 구동\n",
    "    - run( ) 예시 : app.run(host=\"localhost\", port=\"8080\", debug=true) \n",
    "    "
   ]
  },
  {
   "cell_type": "code",
   "execution_count": 1,
   "id": "af3af70c",
   "metadata": {},
   "outputs": [],
   "source": [
    "from flask import Flask   #flask: 마이크로 프레임워크기반"
   ]
  },
  {
   "cell_type": "code",
   "execution_count": 2,
   "id": "8d6d4ebd",
   "metadata": {},
   "outputs": [],
   "source": [
    "app = Flask(__name__)     #__name__: libray로 사용하려는 모듈이름 or 모듈이 없을땐 __main__함수"
   ]
  },
  {
   "cell_type": "code",
   "execution_count": 3,
   "id": "6670b11f",
   "metadata": {},
   "outputs": [
    {
     "data": {
      "text/plain": [
       "<Flask '__main__'>"
      ]
     },
     "execution_count": 3,
     "metadata": {},
     "output_type": "execute_result"
    }
   ],
   "source": [
    "app"
   ]
  },
  {
   "cell_type": "markdown",
   "id": "b9df423d",
   "metadata": {},
   "source": [
    "##### 사용예시\n",
    "            if __name__ == '__main__'\n",
    "                print(\"모듈이 아닙니다, 메인함수가 진행됩니다(해당 코드를 직접 실행합니다)\")\n",
    "            else\n",
    "                print(\"모듈을 호출했습니다\")"
   ]
  },
  {
   "cell_type": "code",
   "execution_count": 4,
   "id": "9a4aada9",
   "metadata": {},
   "outputs": [],
   "source": [
    "@app.route(\"/hello\")            \n",
    "def hello():\n",
    "    return \"<h1>Hello World</h1>\""
   ]
  },
  {
   "cell_type": "code",
   "execution_count": 5,
   "id": "c89bf8a5",
   "metadata": {},
   "outputs": [],
   "source": [
    "host_addr = \"127.0.0.1\"\n",
    "port_num = \"8080\"      #포트번호80:웹"
   ]
  },
  {
   "cell_type": "code",
   "execution_count": 8,
   "id": "e33717f4",
   "metadata": {},
   "outputs": [
    {
     "name": "stdout",
     "output_type": "stream",
     "text": [
      " * Serving Flask app \"__main__\" (lazy loading)\n",
      " * Environment: production\n",
      "\u001b[31m   WARNING: This is a development server. Do not use it in a production deployment.\u001b[0m\n",
      "\u001b[2m   Use a production WSGI server instead.\u001b[0m\n",
      " * Debug mode: off\n"
     ]
    },
    {
     "name": "stderr",
     "output_type": "stream",
     "text": [
      " * Running on http://127.0.0.1:8080/ (Press CTRL+C to quit)\n",
      "127.0.0.1 - - [05/Aug/2021 12:11:00] \"\u001b[33mGET / HTTP/1.1\u001b[0m\" 404 -\n",
      "127.0.0.1 - - [05/Aug/2021 12:11:00] \"\u001b[33mGET /favicon.ico HTTP/1.1\u001b[0m\" 404 -\n",
      "127.0.0.1 - - [05/Aug/2021 12:11:09] \"\u001b[37mGET /hello HTTP/1.1\u001b[0m\" 200 -\n"
     ]
    }
   ],
   "source": [
    "if __name__ == \"__main__\":\n",
    "    app.run(host=host_addr, port=port_num)"
   ]
  },
  {
   "cell_type": "markdown",
   "id": "9b108fd9",
   "metadata": {},
   "source": [
    "##### flask import -> 라우팅경로(route)설정 -> 서버실행\n",
    "    \n",
    "    #코드\n",
    "    \n",
    "    from flask import Flask\n",
    "    app = Flask(__name__)\n",
    "    \n",
    "    @app.route(\"/hello\")\n",
    "    def hello():\n",
    "        return \"<h1>Hello World</h1>\"\n",
    "    \n",
    "    host_addr=\"127.0.0.1\"\n",
    "    port_num =\"8080\"\n",
    "    \n",
    "    if __name__ =\"main\":\n",
    "        app.run(host=\"host_addr\", port=\"port_num\",debug=true)"
   ]
  },
  {
   "cell_type": "markdown",
   "id": "ebe5b092",
   "metadata": {},
   "source": [
    "### 2. 함수"
   ]
  },
  {
   "cell_type": "code",
   "execution_count": 2,
   "id": "f4ad04ec",
   "metadata": {},
   "outputs": [
    {
     "name": "stdout",
     "output_type": "stream",
     "text": [
      "10\n",
      "complex\n"
     ]
    }
   ],
   "source": [
    "def outer_func(num):\n",
    "    \n",
    "    def inner_func():\n",
    "        print(num)\n",
    "        return 'complex'\n",
    "    \n",
    "    return inner_func    #nested function\n",
    "\n",
    "fn = outer_func(10)      #함수를 변수로 선언 가능\n",
    "print(fn())"
   ]
  },
  {
   "cell_type": "code",
   "execution_count": 13,
   "id": "c5e0cd3a",
   "metadata": {},
   "outputs": [],
   "source": [
    "def calc_square(digit):\n",
    "    return digit*digit\n",
    "\n",
    "def calc_plus(digit):\n",
    "    return digit+digit\n",
    "\n",
    "def calc_quad(digit):\n",
    "    return digit*digit*digit*digit"
   ]
  },
  {
   "cell_type": "code",
   "execution_count": 14,
   "id": "2f4a93a8",
   "metadata": {},
   "outputs": [],
   "source": [
    "def list_square(function, digit_list):         #파라미터에 함수 이용 가능\n",
    "    result = list()                            #변수 result를 list형태로 선언\n",
    "    for digit in digit_list: \n",
    "        result.append(function(digit))\n",
    "    print(result)"
   ]
  },
  {
   "cell_type": "code",
   "execution_count": 15,
   "id": "2c2f390c",
   "metadata": {},
   "outputs": [
    {
     "name": "stdout",
     "output_type": "stream",
     "text": [
      "[1, 4, 9, 16, 25]\n",
      "[2, 4, 6, 8, 10]\n",
      "[1, 16, 81, 256, 625]\n"
     ]
    }
   ],
   "source": [
    "num_list = [1,2,3,4,5]\n",
    "list_square(calc_square, num_list)\n",
    "list_square(calc_plus, num_list)\n",
    "list_square(calc_quad, num_list)"
   ]
  },
  {
   "cell_type": "markdown",
   "id": "c77bceb7",
   "metadata": {},
   "source": [
    "#### - 함수를 이용하여 html 만들기"
   ]
  },
  {
   "cell_type": "code",
   "execution_count": 16,
   "id": "faac0726",
   "metadata": {},
   "outputs": [],
   "source": [
    "def create_html(tag):\n",
    "    \n",
    "    def create_msg(msg):\n",
    "        print('<{0}>{1}</{0}>'.format(tag,msg))  #.format({0},{1})\n",
    "    \n",
    "    return create_msg"
   ]
  },
  {
   "cell_type": "code",
   "execution_count": 17,
   "id": "c11f9e82",
   "metadata": {},
   "outputs": [
    {
     "name": "stdout",
     "output_type": "stream",
     "text": [
      "<function create_html.<locals>.create_msg at 0x7fd5e8b1cca0>\n"
     ]
    }
   ],
   "source": [
    "h1_html = create_html('h1')\n",
    "print(h1_html)    #변수로 선언된 h1_html은 create_msg를 가리킨다"
   ]
  },
  {
   "cell_type": "code",
   "execution_count": 18,
   "id": "2c5472a6",
   "metadata": {},
   "outputs": [
    {
     "name": "stdout",
     "output_type": "stream",
     "text": [
      "<h1>이것은 제목입니다</h1>\n"
     ]
    }
   ],
   "source": [
    "h1_html('이것은 제목입니다')"
   ]
  },
  {
   "cell_type": "markdown",
   "id": "76277d98",
   "metadata": {},
   "source": [
    "#### - 스트링 문자열이 주어지면, 정해진 목자 기호로 나열되는 First-class함수(리스트 형태로 출력)"
   ]
  },
  {
   "cell_type": "code",
   "execution_count": 27,
   "id": "a6b9e5a7",
   "metadata": {},
   "outputs": [],
   "source": [
    "content = ['안녕하세요','Hi','こんにちは','Bonjour']"
   ]
  },
  {
   "cell_type": "code",
   "execution_count": 35,
   "id": "caa72d25",
   "metadata": {},
   "outputs": [],
   "source": [
    "def content_list(content):\n",
    "    \n",
    "    def mark_choice(mark):\n",
    "        print('{0} {1}'.format(mark,content))\n",
    "    \n",
    "    return mark_choice"
   ]
  },
  {
   "cell_type": "code",
   "execution_count": 57,
   "id": "0c9a9157",
   "metadata": {},
   "outputs": [
    {
     "name": "stdout",
     "output_type": "stream",
     "text": [
      "- 안녕하세요\n",
      "- Hi\n",
      "- こんにちは\n",
      "- Bonjour\n"
     ]
    }
   ],
   "source": [
    "for i in content:\n",
    "    con = content_list(i)\n",
    "    con('-')"
   ]
  },
  {
   "cell_type": "code",
   "execution_count": null,
   "id": "2763c6c1",
   "metadata": {},
   "outputs": [],
   "source": []
  }
 ],
 "metadata": {
  "kernelspec": {
   "display_name": "Python 3",
   "language": "python",
   "name": "python3"
  },
  "language_info": {
   "codemirror_mode": {
    "name": "ipython",
    "version": 3
   },
   "file_extension": ".py",
   "mimetype": "text/x-python",
   "name": "python",
   "nbconvert_exporter": "python",
   "pygments_lexer": "ipython3",
   "version": "3.8.8"
  }
 },
 "nbformat": 4,
 "nbformat_minor": 5
}
