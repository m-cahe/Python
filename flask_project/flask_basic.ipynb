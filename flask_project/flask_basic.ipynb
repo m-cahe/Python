{
 "cells": [
  {
   "cell_type": "markdown",
   "id": "c9f26044",
   "metadata": {},
   "source": [
    "## 1. 라우팅 경로 설정 (url: Uniform Resource Locator)\n",
    "- URI vs URL\n",
    "    - uri:IP주소+라우팅+파라메터\n",
    "    - url:IP주소+라우팅\n",
    "\n",
    "\n",
    "- @으로 시작하는 코드 : 데코레이터\n",
    "- flask 웹 서버 구동\n",
    "    - run( ) 예시 : app.run(host=\"localhost\", port=\"8080\", debug=true) \n",
    "    \n",
    "    ##### 사용예시\n",
    "            if __name__ == '__main__'\n",
    "                print(\"모듈이 아닙니다, 메인함수가 진행됩니다(해당 코드를 직접 실행합니다)\")\n",
    "            else\n",
    "                print(\"모듈을 호출했습니다\")"
   ]
  },
  {
   "cell_type": "code",
   "execution_count": 33,
   "id": "af3af70c",
   "metadata": {},
   "outputs": [],
   "source": [
    "from flask import Flask   #flask: 마이크로 프레임워크기반"
   ]
  },
  {
   "cell_type": "code",
   "execution_count": 34,
   "id": "8d6d4ebd",
   "metadata": {},
   "outputs": [
    {
     "data": {
      "text/plain": [
       "<Flask '__main__'>"
      ]
     },
     "execution_count": 34,
     "metadata": {},
     "output_type": "execute_result"
    }
   ],
   "source": [
    "app = Flask(__name__)     #__name__: libray로 사용하려는 모듈이름 or 모듈이 없을땐 __main__함수\n",
    "app"
   ]
  },
  {
   "cell_type": "code",
   "execution_count": 35,
   "id": "9a4aada9",
   "metadata": {},
   "outputs": [],
   "source": [
    "@app.route(\"/hello\")            \n",
    "def hello():\n",
    "    return \"<h1>Hello World</h1>\""
   ]
  },
  {
   "cell_type": "code",
   "execution_count": 36,
   "id": "e33717f4",
   "metadata": {
    "scrolled": false
   },
   "outputs": [
    {
     "name": "stdout",
     "output_type": "stream",
     "text": [
      " * Serving Flask app \"__main__\" (lazy loading)\n",
      " * Environment: production\n",
      "\u001b[31m   WARNING: This is a development server. Do not use it in a production deployment.\u001b[0m\n",
      "\u001b[2m   Use a production WSGI server instead.\u001b[0m\n",
      " * Debug mode: off\n"
     ]
    },
    {
     "name": "stderr",
     "output_type": "stream",
     "text": [
      " * Running on http://127.0.0.1:8080/ (Press CTRL+C to quit)\n",
      "127.0.0.1 - - [06/Aug/2021 09:43:42] \"\u001b[33mGET / HTTP/1.1\u001b[0m\" 404 -\n"
     ]
    }
   ],
   "source": [
    "host_addr = \"127.0.0.1\"\n",
    "port_num = \"8080\"      #포트번호80:웹\n",
    "\n",
    "if __name__ == \"__main__\":\n",
    "    app.run(host=host_addr, port=port_num)"
   ]
  },
  {
   "cell_type": "markdown",
   "id": "9b108fd9",
   "metadata": {},
   "source": [
    "##### flask import -> 라우팅경로(route)설정 -> 서버실행\n",
    "    \n",
    "    #코드\n",
    "    \n",
    "    from flask import Flask\n",
    "    app = Flask(__name__)\n",
    "    \n",
    "    @app.route(\"/hello\")\n",
    "    def hello():\n",
    "        return \"<h1>Hello World</h1>\"\n",
    "    \n",
    "    host_addr=\"127.0.0.1\"\n",
    "    port_num =\"8080\"\n",
    "    \n",
    "    if __name__ =\"main\":\n",
    "        app.run(host=\"host_addr\", port=\"port_num\",debug=true)"
   ]
  },
  {
   "cell_type": "markdown",
   "id": "ebe5b092",
   "metadata": {},
   "source": [
    "### 2. 함수"
   ]
  },
  {
   "cell_type": "code",
   "execution_count": 37,
   "id": "f4ad04ec",
   "metadata": {},
   "outputs": [
    {
     "name": "stdout",
     "output_type": "stream",
     "text": [
      "10\n",
      "complex\n"
     ]
    }
   ],
   "source": [
    "def outer_func(num):\n",
    "    \n",
    "    def inner_func():\n",
    "        print(num)\n",
    "        return 'complex'\n",
    "    \n",
    "    return inner_func    #nested function\n",
    "\n",
    "fn = outer_func(10)      #함수를 변수로 선언 가능\n",
    "print(fn())"
   ]
  },
  {
   "cell_type": "code",
   "execution_count": 38,
   "id": "c5e0cd3a",
   "metadata": {},
   "outputs": [],
   "source": [
    "#함수\n",
    "def calc_square(digit):\n",
    "    return digit*digit\n",
    "\n",
    "def calc_plus(digit):\n",
    "    return digit+digit\n",
    "\n",
    "def calc_quad(digit):\n",
    "    return digit*digit*digit*digit\n",
    "\n",
    "#함수2(상위함수를 파라미터에 이용)\n",
    "def list_square(function, digit_list):         #파라미터에 함수 이용 가능\n",
    "    result = list()                            #변수 result를 list형태로 선언\n",
    "    for digit in digit_list: \n",
    "        result.append(function(digit))\n",
    "    print(result)\n",
    "\n",
    "#호출\n",
    "num_list = [1,2,3,4,5]\n",
    "list_square(calc_square, num_list)\n",
    "list_square(calc_plus, num_list)\n",
    "list_square(calc_quad, num_list)"
   ]
  },
  {
   "cell_type": "markdown",
   "id": "c77bceb7",
   "metadata": {},
   "source": [
    "#### 3. 함수를 이용하여 html 만들기"
   ]
  },
  {
   "cell_type": "code",
   "execution_count": 41,
   "id": "faac0726",
   "metadata": {},
   "outputs": [],
   "source": [
    "#함수\n",
    "def create_html(tag):\n",
    "    \n",
    "    def create_msg(msg):\n",
    "        print('<{0}>{1}</{0}>'.format(tag,msg))  #.format({0},{1})\n",
    "    \n",
    "    return create_msg\n",
    "\n",
    "#1차 호출(변수에 저장)\n",
    "h1_html = create_html('h1')\n",
    "print(h1_html)    #변수로 선언된 h1_html은 create_msg를 가리킨다\n",
    "\n",
    "#2차 호출\n",
    "h1_html('이것은 제목입니다')"
   ]
  },
  {
   "cell_type": "markdown",
   "id": "76277d98",
   "metadata": {},
   "source": [
    "#### 4. 스트링 문자열이 주어지면, 정해진 목자 기호로 나열되는 First-class함수(리스트 형태로 출력)"
   ]
  },
  {
   "cell_type": "code",
   "execution_count": 44,
   "id": "caa72d25",
   "metadata": {},
   "outputs": [],
   "source": [
    "content = ['안녕하세요','Hi','こんにちは','Bonjour']\n",
    "\n",
    "#함수\n",
    "def content_list(content):\n",
    "    \n",
    "    def mark_choice(mark):\n",
    "        print('{0} {1}'.format(mark,content))\n",
    "    \n",
    "    return mark_choice\n",
    "\n",
    "#호출\n",
    "for i in content:\n",
    "    con = content_list(i)\n",
    "    con('-')"
   ]
  },
  {
   "cell_type": "markdown",
   "id": "bed9f815",
   "metadata": {},
   "source": [
    "#### 5. 크롤링 기능 이용해 리스트 출력하기"
   ]
  },
  {
   "cell_type": "code",
   "execution_count": 79,
   "id": "36fd28f3",
   "metadata": {},
   "outputs": [
    {
     "name": "stdout",
     "output_type": "stream",
     "text": [
      "1. (왕초보) - 클래스 소개\n",
      "2. (왕초보) - 블로그 개발 필요한 준비물 준비하기\n",
      "3. (왕초보) - Github pages 설정해서 블로그 첫 페이지 만들어보기\n",
      "4. (왕초보) - 초간단 페이지 만들어보기\n",
      "5. (왕초보) - 이쁘게 테마 적용해보기\n",
      "6. (왕초보) - 마크다운 기초 이해하고, 실제 나만의 블로그 페이지 만들기\n",
      "7. (왕초보) - 다양한 마크다운 기법 익혀보며, 나만의 블로그 페이지 꾸며보기\n"
     ]
    }
   ],
   "source": [
    "import requests\n",
    "from bs4 import BeautifulSoup\n",
    "\n",
    "url = 'https://davelee-fun.github.io/blog/crawl_html_css.html'\n",
    "res = requests.get(url)\n",
    "soup = BeautifulSoup(res.content, 'html.parser')\n",
    "link_tit = soup.select(\"ul#hobby_course_list > li\")\n",
    "\n",
    "#함수\n",
    "def get_list(list_con):\n",
    "    \n",
    "    li = list_con.get_text()\n",
    "    \n",
    "    def print_list(list_num):\n",
    "        print('{0}. {1}'.format(list_num+1, li))\n",
    "    \n",
    "    return print_list\n",
    "\n",
    "#호출  \n",
    "for idx, i in enumerate(link_tit):\n",
    "    li = get_list(i)\n",
    "    li(idx)"
   ]
  },
  {
   "cell_type": "code",
   "execution_count": null,
   "id": "64a42234",
   "metadata": {},
   "outputs": [],
   "source": []
  }
 ],
 "metadata": {
  "kernelspec": {
   "display_name": "Python 3",
   "language": "python",
   "name": "python3"
  },
  "language_info": {
   "codemirror_mode": {
    "name": "ipython",
    "version": 3
   },
   "file_extension": ".py",
   "mimetype": "text/x-python",
   "name": "python",
   "nbconvert_exporter": "python",
   "pygments_lexer": "ipython3",
   "version": "3.8.8"
  }
 },
 "nbformat": 4,
 "nbformat_minor": 5
}
