{
 "cells": [
  {
   "cell_type": "code",
   "execution_count": 1,
   "id": "af3af70c",
   "metadata": {},
   "outputs": [],
   "source": [
    "from flask import Flask   #flask: 마이크로 프레임워크기반"
   ]
  },
  {
   "cell_type": "code",
   "execution_count": 2,
   "id": "8d6d4ebd",
   "metadata": {},
   "outputs": [],
   "source": [
    "app = Flask(__name__)     #__name__: libray로 사용하려는 모듈이름 or 모듈이 없을땐 __main__함수"
   ]
  },
  {
   "cell_type": "code",
   "execution_count": 3,
   "id": "6670b11f",
   "metadata": {},
   "outputs": [
    {
     "data": {
      "text/plain": [
       "<Flask '__main__'>"
      ]
     },
     "execution_count": 3,
     "metadata": {},
     "output_type": "execute_result"
    }
   ],
   "source": [
    "app"
   ]
  },
  {
   "cell_type": "markdown",
   "id": "b9df423d",
   "metadata": {},
   "source": [
    "##### 사용예시\n",
    "            if __name__ == '__main__'\n",
    "                print(\"모듈이 아닙니다, 메인함수가 진행됩니다(해당 코드를 직접 실행합니다)\")\n",
    "            else\n",
    "                print(\"모듈을 호출했습니다\")"
   ]
  },
  {
   "cell_type": "code",
   "execution_count": 4,
   "id": "9a4aada9",
   "metadata": {},
   "outputs": [],
   "source": [
    "@app.route(\"/hello\")            \n",
    "def hello():\n",
    "    return \"<h1>Hello World</h1>\""
   ]
  },
  {
   "cell_type": "markdown",
   "id": "c9f26044",
   "metadata": {},
   "source": [
    "### 1. 라우팅 경로 설정 (url: Uniform Resource Locator)\n",
    "- URI vs URL\n",
    "    - uri:IP주소+라우팅+파라메터\n",
    "    - url:IP주소+라우팅\n",
    "\n",
    "\n",
    "- @으로 시작하는 코드 : 데코레이터\n",
    "- flask 웹 서버 구동\n",
    "    - run( ) 예시 : app.run(host=\"localhost\", port=\"8080\", debug=true) \n",
    "    "
   ]
  },
  {
   "cell_type": "code",
   "execution_count": 5,
   "id": "c89bf8a5",
   "metadata": {},
   "outputs": [],
   "source": [
    "host_addr = \"127.0.0.1\"\n",
    "port_num = \"8080\"      #포트번호80:웹"
   ]
  },
  {
   "cell_type": "code",
   "execution_count": 8,
   "id": "e33717f4",
   "metadata": {},
   "outputs": [
    {
     "name": "stdout",
     "output_type": "stream",
     "text": [
      " * Serving Flask app \"__main__\" (lazy loading)\n",
      " * Environment: production\n",
      "\u001b[31m   WARNING: This is a development server. Do not use it in a production deployment.\u001b[0m\n",
      "\u001b[2m   Use a production WSGI server instead.\u001b[0m\n",
      " * Debug mode: off\n"
     ]
    },
    {
     "name": "stderr",
     "output_type": "stream",
     "text": [
      " * Running on http://127.0.0.1:8080/ (Press CTRL+C to quit)\n",
      "127.0.0.1 - - [05/Aug/2021 12:11:00] \"\u001b[33mGET / HTTP/1.1\u001b[0m\" 404 -\n",
      "127.0.0.1 - - [05/Aug/2021 12:11:00] \"\u001b[33mGET /favicon.ico HTTP/1.1\u001b[0m\" 404 -\n",
      "127.0.0.1 - - [05/Aug/2021 12:11:09] \"\u001b[37mGET /hello HTTP/1.1\u001b[0m\" 200 -\n"
     ]
    }
   ],
   "source": [
    "if __name__ == \"__main__\":\n",
    "    app.run(host=host_addr, port=port_num)"
   ]
  },
  {
   "cell_type": "markdown",
   "id": "9b108fd9",
   "metadata": {},
   "source": [
    "##### flask import -> 라우팅경로(route)설정 -> 서버실행\n",
    "    \n",
    "    #코드\n",
    "    \n",
    "    from flask import Flask\n",
    "    app = Flask(__name__)\n",
    "    \n",
    "    @app.route(\"/hello\")\n",
    "    def hello():\n",
    "        return \"<h1>Hello World</h1>\"\n",
    "    \n",
    "    host_addr=\"127.0.0.1\"\n",
    "    port_num =\"8080\"\n",
    "    \n",
    "    if __name__ =\"main\":\n",
    "        app.run(host=\"host_addr\", port=\"port_num\",debug=true)"
   ]
  }
 ],
 "metadata": {
  "kernelspec": {
   "display_name": "Python 3",
   "language": "python",
   "name": "python3"
  },
  "language_info": {
   "codemirror_mode": {
    "name": "ipython",
    "version": 3
   },
   "file_extension": ".py",
   "mimetype": "text/x-python",
   "name": "python",
   "nbconvert_exporter": "python",
   "pygments_lexer": "ipython3",
   "version": "3.8.8"
  }
 },
 "nbformat": 4,
 "nbformat_minor": 5
}
